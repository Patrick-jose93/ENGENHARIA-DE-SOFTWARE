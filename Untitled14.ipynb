{
  "nbformat": 4,
  "nbformat_minor": 0,
  "metadata": {
    "colab": {
      "provenance": [],
      "authorship_tag": "ABX9TyP3VHhsnGfKc2gdyz/uTdet",
      "include_colab_link": true
    },
    "kernelspec": {
      "name": "python3",
      "display_name": "Python 3"
    },
    "language_info": {
      "name": "python"
    }
  },
  "cells": [
    {
      "cell_type": "markdown",
      "metadata": {
        "id": "view-in-github",
        "colab_type": "text"
      },
      "source": [
        "<a href=\"https://colab.research.google.com/github/Patrick-jose93/ENGENHARIA-DE-SOFTWARE/blob/main/Untitled14.ipynb\" target=\"_parent\"><img src=\"https://colab.research.google.com/assets/colab-badge.svg\" alt=\"Open In Colab\"/></a>"
      ]
    },
    {
      "cell_type": "code",
      "execution_count": null,
      "metadata": {
        "id": "Ec7fL1LYQ4iP"
      },
      "outputs": [],
      "source": [
        "import sqlite3\n",
        "\n",
        "banco = sqlite3.connect('DEPOSITO.db')\n",
        "\n",
        "cursor = banco.cursor()\n",
        "\n",
        "\n",
        "cursor.execute(''' CREATE TABLE IF NOT EXISTS produtos(\n",
        "nome text,\n",
        "  categoria text,\n",
        "  quantidade integer,\n",
        "             localizacao text  )''')\n",
        "\n",
        "def inserir_produto(nome, categoria, quantidade, localizacao):\n",
        "      cursor.execute(\"INSERT INTO produtos(nome, categoria, quantidade, localizacao) VALUES (?, ?, ?, ?)\", (nome, categoria, quantidade, localizacao))\n",
        "      banco.commit()\n",
        "\n",
        "#inserir_produto('Notebook Dell', 'Eletrônicos', 10, 'Depósito 1')\n",
        "#inserir_produto('Apple', 'Eletrônicos', 8, 'Depósito 2')\n",
        "\n",
        "def excluir_produto(nome):\n",
        "    cursor.execute(\"DELETE FROM produtos WHERE nome=?\", (nome,))\n",
        "    banco.commit()\n",
        "\n",
        "\n",
        "def buscar_produto(nome):\n",
        "    cursor.execute(\"SELECT * FROM produtos WHERE nome=?\", (nome,))\n",
        "    return cursor.fetchone()\n",
        "\n",
        "produto_encontrado = buscar_produto(\" Dell\")\n",
        "\n",
        "if produto_encontrado:\n",
        "    print(\"Produto encontrado:\", produto_encontrado)\n",
        "else:\n",
        "    print(\"Produto não encontrado.\")\n",
        "\n",
        "def relatorio_estoque_baixo(limite_minimo=3):\n",
        "\n",
        "\n",
        "    cursor.execute(\"SELECT * FROM produtos WHERE quantidade <= ?\", (limite_minimo,))\n",
        "    resultado = cursor.fetchall()\n",
        "\n",
        "\n",
        "    if resultado:\n",
        "        print(\"Produtos com estoque baixo:\")\n",
        "        for produto in resultado:\n",
        "            print(f\"ID: {produto[0]}, Nome: {produto[1]}, Quantidade: {produto[2]}\")\n",
        "    else:\n",
        "        print(\"Não há produtos com estoque abaixo do limite.\")\n",
        "\n",
        "#inserir_produto('cadermo','escritorio',2,'deposito 3')\n",
        "\n",
        "#relatorio_estoque_baixo()\n",
        "\n",
        "cursor.execute(\"SELECT * FROM produtos\")\n",
        "\n",
        "def relatorio_excessos(limite_maximo=15):\n",
        "\n",
        "    cursor.execute(\"SELECT * FROM produtos WHERE quantidade >= ?\", (limite_maximo,))\n",
        "    resultado = cursor.fetchall()\n",
        "\n",
        "    if resultado:\n",
        "        print('produto em excesso:')\n",
        "        for produto in resultado:\n",
        "            print(f'nome: {produto[0]}, categoria: {produto[1]}, quantidade: {produto[2]}')\n",
        "    else:\n",
        "          print('Não a produtos em excesso')\n",
        "\n",
        "cursor.execute('SELECT * FROM produtos')\n",
        "\n",
        "inserir_produto('cadermo','escritorio',22,'deposito 3')\n",
        "relatorio_excessos()\n",
        "\n",
        "\n",
        "\n",
        "\n",
        "\n",
        "print(cursor.fetchall())\n",
        "\n",
        "banco.close()\n"
      ]
    }
  ]
}