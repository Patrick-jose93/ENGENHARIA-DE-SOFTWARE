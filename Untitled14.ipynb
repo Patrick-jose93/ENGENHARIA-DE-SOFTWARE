{
  "nbformat": 4,
  "nbformat_minor": 0,
  "metadata": {
    "colab": {
      "provenance": [],
      "authorship_tag": "ABX9TyO0G32VdPEVK1aZV0dHKMqm",
      "include_colab_link": true
    },
    "kernelspec": {
      "name": "python3",
      "display_name": "Python 3"
    },
    "language_info": {
      "name": "python"
    }
  },
  "cells": [
    {
      "cell_type": "markdown",
      "metadata": {
        "id": "view-in-github",
        "colab_type": "text"
      },
      "source": [
        "<a href=\"https://colab.research.google.com/github/Patrick-jose93/ENGENHARIA-DE-SOFTWARE/blob/main/Untitled14.ipynb\" target=\"_parent\"><img src=\"https://colab.research.google.com/assets/colab-badge.svg\" alt=\"Open In Colab\"/></a>"
      ]
    },
    {
      "cell_type": "code",
      "execution_count": 9,
      "metadata": {
        "colab": {
          "base_uri": "https://localhost:8080/"
        },
        "id": "Ec7fL1LYQ4iP",
        "outputId": "c155d782-90d5-4b7c-ce01-a0521dbba2e3"
      },
      "outputs": [
        {
          "output_type": "stream",
          "name": "stdout",
          "text": [
            "Produto não encontrado.\n",
            "[('Notebook Dell', 'Eletrônicos', 10, 'Depósito 1')]\n"
          ]
        }
      ],
      "source": [
        "import sqlite3\n",
        "\n",
        "banco = sqlite3.connect('DEPOSITO.db')\n",
        "\n",
        "cursor = banco.cursor()\n",
        "\n",
        "\n",
        "cursor.execute(''' CREATE TABLE IF NOT EXISTS produtos(\n",
        "nome text,\n",
        "  categoria text,\n",
        "  quantidade integer,\n",
        "             localizacao text  )''')\n",
        "\n",
        "def inserir_produto(nome, categoria, quantidade, localizacao):\n",
        "      cursor.execute(\"INSERT INTO produtos(nome, categoria, quantidade, localizacao) VALUES (?, ?, ?, ?)\", (nome, categoria, quantidade, localizacao))\n",
        "      banco.commit()\n",
        "\n",
        "#inserir_produto('Notebook Dell', 'Eletrônicos', 10, 'Depósito 1')\n",
        "#inserir_produto('Apple', 'Eletrônicos', 8, 'Depósito 2')\n",
        "\n",
        "def excluir_produto(nome):\n",
        "    cursor.execute(\"DELETE FROM produtos WHERE nome=?\", (nome,))\n",
        "    banco.commit()\n",
        "\n",
        "\n",
        "def buscar_produto(nome):\n",
        "    cursor.execute(\"SELECT * FROM produtos WHERE nome=?\", (nome,))\n",
        "    return cursor.fetchone()\n",
        "\n",
        "produto_encontrado = buscar_produto(\" Dell\")\n",
        "\n",
        "if produto_encontrado:\n",
        "    print(\"Produto encontrado:\", produto_encontrado)\n",
        "else:\n",
        "    print(\"Produto não encontrado.\")\n",
        "\n",
        "def relatorio_estoque_baixo(limite_minimo=3):\n",
        "\n",
        "\n",
        "    cursor.execute(\"SELECT * FROM produtos WHERE quantidade <= ?\", (limite_minimo,))\n",
        "    produtos_baixos = cursor.fetchall()\n",
        "    banco.close()\n",
        "\n",
        "    if produtos_baixos:\n",
        "        print(\"Produtos com estoque baixo:\")\n",
        "        for produto in produtos_baixos:\n",
        "            print(f\"ID: {produto[0]}, Nome: {produto[1]}, Quantidade: {produto[2]}\")\n",
        "    else:\n",
        "        print(\"Não há produtos com estoque abaixo do limite.\")\n",
        "\n",
        "cursor.execute(\"SELECT * FROM produtos\")\n",
        "\n",
        "print(cursor.fetchall())\n"
      ]
    }
  ]
}