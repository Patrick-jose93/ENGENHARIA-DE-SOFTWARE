{
  "nbformat": 4,
  "nbformat_minor": 0,
  "metadata": {
    "colab": {
      "provenance": [],
      "authorship_tag": "ABX9TyN/4vKDjOgNfTiu8FulO3uh",
      "include_colab_link": true
    },
    "kernelspec": {
      "name": "python3",
      "display_name": "Python 3"
    },
    "language_info": {
      "name": "python"
    }
  },
  "cells": [
    {
      "cell_type": "markdown",
      "metadata": {
        "id": "view-in-github",
        "colab_type": "text"
      },
      "source": [
        "<a href=\"https://colab.research.google.com/github/Patrick-jose93/ENGENHARIA-DE-SOFTWARE/blob/main/Untitled14.ipynb\" target=\"_parent\"><img src=\"https://colab.research.google.com/assets/colab-badge.svg\" alt=\"Open In Colab\"/></a>"
      ]
    },
    {
      "cell_type": "code",
      "execution_count": 8,
      "metadata": {
        "colab": {
          "base_uri": "https://localhost:8080/"
        },
        "id": "Ec7fL1LYQ4iP",
        "outputId": "cbb6e1fb-b4dd-4cb9-ef0c-9b606b9af3c2"
      },
      "outputs": [
        {
          "output_type": "stream",
          "name": "stdout",
          "text": [
            "[('Notebook Dell', 'Eletrônicos', 10, 'Depósito 1'), ('Notebook Dell', 'Eletrônicos', 10, 'Depósito 1')]\n"
          ]
        }
      ],
      "source": [
        "import sqlite3\n",
        "\n",
        "banco = sqlite3.connect('DEPOSITO.db')\n",
        "\n",
        "cursor = banco.cursor()\n",
        "\n",
        "\n",
        "cursor.execute(''' CREATE TABLE IF NOT EXISTS produtos(\n",
        "nome text,\n",
        "  categoria text,\n",
        "  quantidade integer,\n",
        "             localizacao text  )''')\n",
        "\n",
        "def inserir_produto(nome, categoria, quantidade, localizacao):\n",
        "      cursor.execute(\"INSERT INTO produtos(nome, categoria, quantidade, localizacao) VALUES (?, ?, ?, ?)\", (nome, categoria, quantidade, localizacao))\n",
        "      banco.commit()\n",
        "\n",
        "inserir_produto('Notebook Dell', 'Eletrônicos', 10, 'Depósito 1')\n",
        "\n",
        "\n",
        "\n",
        "cursor.execute(\"SELECT * FROM produtos\")\n",
        "\n",
        "print(cursor.fetchall())\n"
      ]
    }
  ]
}