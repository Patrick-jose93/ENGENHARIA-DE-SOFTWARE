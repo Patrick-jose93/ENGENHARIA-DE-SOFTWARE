{
  "nbformat": 4,
  "nbformat_minor": 0,
  "metadata": {
    "colab": {
      "provenance": [],
      "authorship_tag": "ABX9TyP4HvNJlfy0Al/DuyGtVsCa",
      "include_colab_link": true
    },
    "kernelspec": {
      "name": "python3",
      "display_name": "Python 3"
    },
    "language_info": {
      "name": "python"
    }
  },
  "cells": [
    {
      "cell_type": "markdown",
      "metadata": {
        "id": "view-in-github",
        "colab_type": "text"
      },
      "source": [
        "<a href=\"https://colab.research.google.com/github/Patrick-jose93/ENGENHARIA-DE-SOFTWARE/blob/main/Untitled10.ipynb\" target=\"_parent\"><img src=\"https://colab.research.google.com/assets/colab-badge.svg\" alt=\"Open In Colab\"/></a>"
      ]
    },
    {
      "cell_type": "code",
      "execution_count": null,
      "metadata": {
        "id": "fYyZX6VdznSM"
      },
      "outputs": [],
      "source": [
        "import matplotlib.pyplot as plt\n",
        "\n",
        "class Livro:\n",
        "    def __init__(self, titulo, autor, genero, quantidade):\n",
        "        self.titulo = titulo\n",
        "        self.autor = autor\n",
        "        self.genero = genero\n",
        "        self.quantidade = quantidade\n",
        "\n",
        "Livros = [ ]\n",
        "\n",
        "def cadastro_de_livro(titulo, autor, genero, quantidade):\n",
        "    novo_livro = Livro(titulo, autor, genero, quantidade)\n",
        "    livros.append(novo_livro)\n",
        "    print(\"Livro cadastrado com sucesso!\")\n",
        "\n",
        "def lista_livros():\n",
        "    if not livros:\n",
        "        print(\"Não há livros cadastrados.\")\n",
        "    else:\n",
        "        for livro in livros:\n",
        "            print(f\"Título: {livro.titulo}, Autor: {livro.autor}, Gênero: {livro.genero}, Quantidade: {livro.quantidade}\")\n",
        "\n",
        "def buscar_(titulo):\n",
        "    for livro in livros:\n",
        "        if livro.titulo == titulo:\n",
        "            return livro\n",
        "    return None\n",
        "\n",
        "def gerar_grafico():\n",
        "    generos = {}\n",
        "    for livro in livros:\n",
        "        if livro.genero not in generos:\n",
        "            generos[livro.genero] = 0\n",
        "        generos[livro.genero] += livro.quantidade\n",
        "\n",
        "    plt.bar(generos.keys(), generos.values())\n",
        "    plt.xlabel(\"Gênero\")\n",
        "    plt.ylabel(\"Quantidade\")\n",
        "    plt.title(\"Quantidade de Livros por Gênero\")\n",
        "    plt.show()"
      ]
    }
  ]
}