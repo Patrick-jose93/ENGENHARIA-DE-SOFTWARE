{
  "nbformat": 4,
  "nbformat_minor": 0,
  "metadata": {
    "colab": {
      "provenance": [],
      "toc_visible": true,
      "authorship_tag": "ABX9TyNkuTXZRAAeoRXlzjiT+JRg",
      "include_colab_link": true
    },
    "kernelspec": {
      "name": "python3",
      "display_name": "Python 3"
    },
    "language_info": {
      "name": "python"
    }
  },
  "cells": [
    {
      "cell_type": "markdown",
      "metadata": {
        "id": "view-in-github",
        "colab_type": "text"
      },
      "source": [
        "<a href=\"https://colab.research.google.com/github/Patrick-jose93/ENGENHARIA-DE-SOFTWARE/blob/main/Untitled9.ipynb\" target=\"_parent\"><img src=\"https://colab.research.google.com/assets/colab-badge.svg\" alt=\"Open In Colab\"/></a>"
      ]
    },
    {
      "cell_type": "code",
      "source": [
        "\n",
        "notas = []\n",
        "\n",
        "# Loop para coletar as notas\n",
        "for c in range(4):\n",
        "    nota = float(input('Digite a nota {}: '))\n",
        "    notas.append(nota)\n",
        "\n",
        "# Função para calcular a média\n",
        "def calcular_media(notas):\n",
        "    total = sum(notas)\n",
        "    media = total / len(notas)\n",
        "    return media\n",
        "\n",
        "\n",
        "\n",
        "\n",
        "# Calcular a média\n",
        "\n",
        "media = calcular_media(notas)\n",
        "\n",
        "media_arredondada = arredondar_media(media)\n",
        "\n",
        "\n",
        "\n",
        "# Verificar se os estudantes foram aprovados\n",
        "\n",
        "situacao = 'ALUNO APROVADO' if media_arredondada >= 7 else 'ALUNO REPROVADO'\n",
        "\n",
        "\n",
        "\n",
        "# Resultados\n",
        "\n",
        "print( notas)\n",
        "\n",
        "print( media_arredondada)\n",
        "\n",
        "print(situacao)"
      ],
      "metadata": {
        "id": "tl5qSQd7Dur4",
        "colab": {
          "base_uri": "https://localhost:8080/"
        },
        "outputId": "abb45905-a90e-406f-eadd-b839dfd0cc8d"
      },
      "execution_count": 12,
      "outputs": [
        {
          "output_type": "stream",
          "name": "stdout",
          "text": [
            "Digite a nota {}: 10\n",
            "Digite a nota {}: 5\n",
            "Digite a nota {}: 3\n",
            "Digite a nota {}: 7\n",
            "[10.0, 5.0, 3.0, 7.0]\n",
            "6.25\n",
            "ALUNO REPROVADO\n"
          ]
        }
      ]
    }
  ]
}