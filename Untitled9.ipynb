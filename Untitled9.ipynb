{
  "nbformat": 4,
  "nbformat_minor": 0,
  "metadata": {
    "colab": {
      "provenance": [],
      "toc_visible": true,
      "authorship_tag": "ABX9TyPn+KIBkLHz2Mw4zyg1swbQ",
      "include_colab_link": true
    },
    "kernelspec": {
      "name": "python3",
      "display_name": "Python 3"
    },
    "language_info": {
      "name": "python"
    }
  },
  "cells": [
    {
      "cell_type": "markdown",
      "metadata": {
        "id": "view-in-github",
        "colab_type": "text"
      },
      "source": [
        "<a href=\"https://colab.research.google.com/github/Patrick-jose93/ENGENHARIA-DE-SOFTWARE/blob/main/Untitled9.ipynb\" target=\"_parent\"><img src=\"https://colab.research.google.com/assets/colab-badge.svg\" alt=\"Open In Colab\"/></a>"
      ]
    },
    {
      "cell_type": "code",
      "source": [
        "import matplotlib.pyplot as plt\n",
        "\n",
        "class Livros:\n",
        "    def __init__(self, titulo, autor, genero, quantidade, ):\n",
        "      self.titulo = titulo\n",
        "      self.autor = autor\n",
        "      self.genero = genero\n",
        "      self.quantidade = quantidade\n",
        "livros = []\n",
        "def cadastrar_livro(titulo, autor, genero, quantidade):\n",
        "  novo_livros = Livros(titulo, autor, genero, quantidade)\n",
        "  livros.append(novo_livros)\n",
        "  print('Livro cadastrado')\n",
        "\n",
        "def listar_livros():\n",
        "  if not livros:\n",
        "    print('Não livros cadastrados')\n",
        "  else :\n",
        "    for livro in livros:\n",
        "      print(print(f\"Título: {livro.titulo}\\nAutor: {livro.autor}\\nGênero: {livro.genero}\\nQuantidade: {livro.quantidade}\\n\"))\n",
        "\n",
        "def buscar_livro (titulo):\n",
        "    for livro in livros:\n",
        "      if livro.titulo == titulo:\n",
        "        print(f\"Livro encontrado:\\nTítulo: {livro.titulo}\\nAutor: {livro.autor}\\nGênero: {livro.genero}\\nQuantidade: {livro.quantidade}\\n\")\n",
        "        return\n",
        "    print('Livro não encontrado ')\n",
        "\n",
        "def gerar_grafico ():\n",
        "    generos = []\n",
        "    quantidades = []\n",
        "    for livro in livros:\n",
        "      if livro.genero not in generos:\n",
        "        generos.append(livro.genero)\n",
        "        quantidades.append(livro.quantidade)\n",
        "      else:\n",
        "        indece = generos.index(livro.genero)\n",
        "        quantidades[indece] += livro.quantidade\n",
        "\n",
        "    plt.bar(generos, quantidades)\n",
        "    plt.xlabel(\"Gênero\")\n",
        "    plt.ylabel(\"Quantidade de Livros\")\n",
        "    plt.title(\"Livros por Gênero\")\n",
        "    plt.show()\n",
        "# Cadastrar alguns livros\n",
        "cadastrar_livro(\"Harry poter \", \"J. K. Rowling \", \"Ficção\", 10)\n",
        "cadastrar_livro(\"A única coisa\", \"Gary Keller\", \"Auto-ajuda\", 5)\n",
        "cadastrar_livro(\"O Fim da Infância\", \"Arthur C. Clarke\", \"Ficção Científica\", 8)\n",
        "cadastrar_livro(\"Orgulho e preconceito \", \" Jane Austen \", \"Romace\", 17)\n",
        "\n",
        "# Listar todos os livros\n",
        "listar_livros()\n",
        "\n",
        "# Buscar um livro\n",
        "buscar_livro(\"A única coisa\")\n",
        "\n",
        "# Gerar o gráfico\n",
        "gerar_grafico()\n",
        "\n"
      ],
      "metadata": {
        "colab": {
          "base_uri": "https://localhost:8080/",
          "height": 1000
        },
        "id": "ARJcGctHjrZX",
        "outputId": "2c2b2ed8-05e8-449a-d796-133960e80cbb"
      },
      "execution_count": 19,
      "outputs": [
        {
          "output_type": "stream",
          "name": "stdout",
          "text": [
            "Livro cadastrado\n",
            "Livro cadastrado\n",
            "Livro cadastrado\n",
            "Livro cadastrado\n",
            "Título: Harry poter \n",
            "Autor: J. K. Rowling \n",
            "Gênero: Ficção\n",
            "Quantidade: 10\n",
            "\n",
            "None\n",
            "Título: A única coisa\n",
            "Autor: Gary Keller\n",
            "Gênero: Auto-ajuda\n",
            "Quantidade: 5\n",
            "\n",
            "None\n",
            "Título: O Fim da Infância\n",
            "Autor: Arthur C. Clarke\n",
            "Gênero: Ficção Científica\n",
            "Quantidade: 8\n",
            "\n",
            "None\n",
            "Título: Orgulho e preconceito \n",
            "Autor:  Jane Austen \n",
            "Gênero: Romace\n",
            "Quantidade: 17\n",
            "\n",
            "None\n",
            "Livro encontrado:\n",
            "Título: A única coisa\n",
            "Autor: Gary Keller\n",
            "Gênero: Auto-ajuda\n",
            "Quantidade: 5\n",
            "\n"
          ]
        },
        {
          "output_type": "display_data",
          "data": {
            "text/plain": [
              "<Figure size 640x480 with 1 Axes>"
            ],
            "image/png": "[encoded data removed]"
          },
          "metadata": {}
        }
      ]
    }
  ]
}