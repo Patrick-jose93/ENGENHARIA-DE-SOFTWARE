{
  "nbformat": 4,
  "nbformat_minor": 0,
  "metadata": {
    "colab": {
      "provenance": [],
      "toc_visible": true,
      "authorship_tag": "ABX9TyNxgYbMy3U3WfA7R+Sq8XNr",
      "include_colab_link": true
    },
    "kernelspec": {
      "name": "python3",
      "display_name": "Python 3"
    },
    "language_info": {
      "name": "python"
    }
  },
  "cells": [
    {
      "cell_type": "markdown",
      "metadata": {
        "id": "view-in-github",
        "colab_type": "text"
      },
      "source": [
        "<a href=\"https://colab.research.google.com/github/Patrick-jose93/ENGENHARIA-DE-SOFTWARE/blob/main/Untitled9.ipynb\" target=\"_parent\"><img src=\"https://colab.research.google.com/assets/colab-badge.svg\" alt=\"Open In Colab\"/></a>"
      ]
    },
    {
      "cell_type": "code",
      "source": [
        "# CALCULO DA MEDIA\n",
        "Nota1 = float(input('Digite a primeira nota: '))\n",
        "Nota2 = float(input('Digite a segunda nota: '))\n",
        "Nota3 = float(input('Digite a terceira nota: '))\n",
        "Nota4 = float(input('Digite a Quarta nota: '))\n",
        "Totalnotas = [Nota1, Nota2, Nota3, Nota4]\n",
        "#CALCULANDO A MEDIA\n",
        "Media = (Nota1 + Nota2 + Nota3 + Nota4) / 4\n",
        "\n",
        "print(type(Totalnotas))\n",
        "#Determina se o Aluno foi reprovado ou não, nota < 7 Reprovado\n",
        "\n",
        "if Media < 7 :\n",
        "  print('VOCÊ INFELIZMENTE FOI REPROVADO!')\n",
        "else:\n",
        "  print('PARABENS APROVADO')"
      ],
      "metadata": {
        "id": "BfOF5-cpCnWv",
        "colab": {
          "base_uri": "https://localhost:8080/"
        },
        "outputId": "02931d9f-84a7-40bf-acdc-f062f828c799"
      },
      "execution_count": 6,
      "outputs": [
        {
          "output_type": "stream",
          "name": "stdout",
          "text": [
            "Digite a primeira nota: 20\n",
            "Digite a segunda nota: 30\n",
            "Digite a terceira nota: 10\n",
            "Digite a Quarta nota: 70\n",
            "<class 'list'>\n"
          ]
        }
      ]
    },
    {
      "cell_type": "code",
      "source": [],
      "metadata": {
        "id": "Qg4pQJG9zjgg"
      },
      "execution_count": null,
      "outputs": []
    }
  ]
}