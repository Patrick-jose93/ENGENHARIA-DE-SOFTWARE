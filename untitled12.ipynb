{
  "nbformat": 4,
  "nbformat_minor": 0,
  "metadata": {
    "colab": {
      "provenance": [],
      "authorship_tag": "ABX9TyNotyAwoH6Y0kW1zqN7ayYe",
      "include_colab_link": true
    },
    "kernelspec": {
      "name": "python3",
      "display_name": "Python 3"
    },
    "language_info": {
      "name": "python"
    }
  },
  "cells": [
    {
      "cell_type": "markdown",
      "metadata": {
        "id": "view-in-github",
        "colab_type": "text"
      },
      "source": [
        "<a href=\"https://colab.research.google.com/github/Patrick-jose93/ENGENHARIA-DE-SOFTWARE/blob/main/untitled12.ipynb\" target=\"_parent\"><img src=\"https://colab.research.google.com/assets/colab-badge.svg\" alt=\"Open In Colab\"/></a>"
      ]
    },
    {
      "cell_type": "code",
      "execution_count": null,
      "metadata": {
        "colab": {
          "base_uri": "https://localhost:8080/"
        },
        "id": "wrADqdJajT2g",
        "outputId": "f42ae362-c40d-4a4b-fcaa-ea03bdf91b32"
      },
      "outputs": [
        {
          "output_type": "stream",
          "name": "stdout",
          "text": [
            "[(1, '2023-01-01', 'Produto A', 'Eletrônicos', 1500.0), (2, '2023-01-05', 'Produto B', 'Roupas', 350.0), (3, '2023-02-10', 'Produto C', 'Eletrônicos', 1200.0), (4, '2023-03-15', 'Produto D', 'Livros', 200.0), (5, '2023-03-20', 'Produto E', 'Eletrônicos', 800.0), (6, '2023-04-02', 'Produto F', 'Roupas', 400.0), (7, '2023-05-05', 'Produto G', 'Livros', 150.0), (8, '2023-06-10', 'Produto H', 'Eletrônicos', 1000.0), (9, '2023-07-20', 'Produto I', 'Roupas', 600.0), (10, '2023-08-25', 'Produto J', 'Eletrônicos', 700.0), (11, '2023-09-30', 'Produto K', 'Livros', 300.0), (12, '2023-10-05', 'Produto L', 'Roupas', 450.0), (13, '2023-11-15', 'Produto M', 'Eletrônicos', 900.0), (14, '2023-12-20', 'Produto N', 'Livros', 250.0)]\n"
          ]
        }
      ],
      "source": [
        "import sqlite3\n",
        "\n",
        "\n",
        "vendas = sqlite3.connect('dados_vendas.db')\n",
        "\n",
        "cursor = vendas.cursor()\n",
        "\n",
        "#cursor.execute('''\n",
        "#CREATE TABLE vendas1 (\n",
        "#id_venda INTEGER PRIMARY KEY AUTOINCREMENT,\n",
        "#data_venda DATE,\n",
        "#produto TEXT,\n",
        "#categoria TEXT,\n",
        "#valor_venda REAL\n",
        "#)\n",
        "#''')\n",
        "\n",
        "#cursor.execute ('''\n",
        "#INSERT INTO vendas1 (data_venda, produto, categoria, valor_venda) VALUES\n",
        "#('2023-01-01', 'Produto A', 'Eletrônicos', 1500.00),\n",
        "#('2023-01-05', 'Produto B', 'Roupas', 350.00),\n",
        "#('2023-02-10', 'Produto C', 'Eletrônicos', 1200.00),\n",
        "#('2023-03-15', 'Produto D', 'Livros', 200.00),\n",
        "#('2023-03-20', 'Produto E', 'Eletrônicos', 800.00),\n",
        "#('2023-04-02', 'Produto F', 'Roupas', 400.00),\n",
        "#('2023-05-05', 'Produto G', 'Livros', 150.00),\n",
        "#('2023-06-10', 'Produto H', 'Eletrônicos', 1000.00),\n",
        "#('2023-07-20', 'Produto I', 'Roupas', 600.00),\n",
        "#('2023-08-25', 'Produto J', 'Eletrônicos', 700.00),\n",
        "#('2023-09-30', 'Produto K', 'Livros', 300.00),\n",
        "#('2023-10-05', 'Produto L', 'Roupas', 450.00),\n",
        "#('2023-11-15', 'Produto M', 'Eletrônicos', 900.00),\n",
        "#('2023-12-20', 'Produto N', 'Livros', 250.00);\n",
        "#''')\n",
        "\n",
        "#vendas.commit()\n",
        "\n",
        "cursor.execute('SELECT * FROM vendas1 ')\n",
        "print(cursor.fetchall())\n"
      ]
    }
  ]
}